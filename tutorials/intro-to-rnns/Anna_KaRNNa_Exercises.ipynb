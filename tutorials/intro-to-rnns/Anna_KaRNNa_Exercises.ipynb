{
 "cells": [
  {
   "cell_type": "markdown",
   "metadata": {
    "deletable": true,
    "editable": true
   },
   "source": [
    "# Anna KaRNNa\n",
    "\n",
    "In this notebook, we'll build a character-wise RNN trained on Anna Karenina, one of my all-time favorite books. It'll be able to generate new text based on the text from the book.\n",
    "\n",
    "This network is based off of Andrej Karpathy's [post on RNNs](http://karpathy.github.io/2015/05/21/rnn-effectiveness/) and [implementation in Torch](https://github.com/karpathy/char-rnn). Also, some information [here at r2rt](http://r2rt.com/recurrent-neural-networks-in-tensorflow-ii.html) and from [Sherjil Ozair](https://github.com/sherjilozair/char-rnn-tensorflow) on GitHub. Below is the general architecture of the character-wise RNN.\n",
    "\n",
    "<img src=\"assets/charseq.jpeg\" width=\"500\">"
   ]
  },
  {
   "cell_type": "code",
   "execution_count": 2,
   "metadata": {
    "collapsed": false,
    "deletable": true,
    "editable": true
   },
   "outputs": [
    {
     "data": {
      "text/plain": [
       "'1.0.0'"
      ]
     },
     "execution_count": 2,
     "metadata": {},
     "output_type": "execute_result"
    }
   ],
   "source": [
    "import time\n",
    "from collections import namedtuple\n",
    "\n",
    "import numpy as np\n",
    "import tensorflow as tf\n",
    "tf.__version__"
   ]
  },
  {
   "cell_type": "markdown",
   "metadata": {
    "deletable": true,
    "editable": true
   },
   "source": [
    "First we'll load the text file and convert it into integers for our network to use. Here I'm creating a couple dictionaries to convert the characters to and from integers. Encoding the characters as integers makes it easier to use as input in the network."
   ]
  },
  {
   "cell_type": "code",
   "execution_count": 3,
   "metadata": {
    "collapsed": true,
    "deletable": true,
    "editable": true
   },
   "outputs": [],
   "source": [
    "with open('anna.txt', 'r') as f:\n",
    "    text=f.read()\n",
    "vocab = set(text)\n",
    "vocab_to_int = {c: i for i, c in enumerate(vocab)}\n",
    "int_to_vocab = dict(enumerate(vocab))\n",
    "encoded = np.array([vocab_to_int[c] for c in text], dtype=np.int32)"
   ]
  },
  {
   "cell_type": "markdown",
   "metadata": {
    "deletable": true,
    "editable": true
   },
   "source": [
    "Let's check out the first 100 characters, make sure everything is peachy. According to the [American Book Review](http://americanbookreview.org/100bestlines.asp), this is the 6th best first line of a book ever."
   ]
  },
  {
   "cell_type": "code",
   "execution_count": 4,
   "metadata": {
    "collapsed": false,
    "deletable": true,
    "editable": true
   },
   "outputs": [
    {
     "name": "stdout",
     "output_type": "stream",
     "text": [
      "{0: 'f', 1: 'K', 2: 'b', 3: 'T', 4: '&', 5: ',', 6: '0', 7: '`', 8: '$', 9: 'F', 10: '(', 11: 'x', 12: 'd', 13: 'v', 14: '4', 15: '_', 16: 'L', 17: 'Z', 18: '6', 19: '8', 20: '\\n', 21: 'E', 22: 'n', 23: 's', 24: '-', 25: '!', 26: 'c', 27: 'h', 28: 'w', 29: 'B', 30: 'G', 31: '3', 32: 'H', 33: 'C', 34: 'm', 35: 'P', 36: ' ', 37: ')', 38: 'a', 39: '5', 40: 'g', 41: '2', 42: 'R', 43: 'z', 44: 'O', 45: ':', 46: 'J', 47: 'A', 48: 'q', 49: 't', 50: 'W', 51: 'I', 52: 'U', 53: '%', 54: 'u', 55: 'N', 56: 'e', 57: '1', 58: 'p', 59: '?', 60: 'V', 61: 'X', 62: '.', 63: '@', 64: 'Q', 65: '9', 66: 'r', 67: 'y', 68: 'D', 69: 'j', 70: 'Y', 71: 'o', 72: 'M', 73: '7', 74: 'k', 75: '*', 76: 'i', 77: 'l', 78: \"'\", 79: '\"', 80: ';', 81: 'S', 82: '/'}\n"
     ]
    }
   ],
   "source": [
    "text[:100]\n",
    "print(dict(enumerate(vocab)))"
   ]
  },
  {
   "cell_type": "markdown",
   "metadata": {
    "deletable": true,
    "editable": true
   },
   "source": [
    "And we can see the characters encoded as integers."
   ]
  },
  {
   "cell_type": "code",
   "execution_count": 5,
   "metadata": {
    "collapsed": false,
    "deletable": true,
    "editable": true
   },
   "outputs": [
    {
     "data": {
      "text/plain": [
       "array([33, 27, 38, 58, 49, 56, 66, 36, 57, 20, 20, 20, 32, 38, 58, 58, 67,\n",
       "       36,  0, 38, 34, 76, 77, 76, 56, 23, 36, 38, 66, 56, 36, 38, 77, 77,\n",
       "       36, 38, 77, 76, 74, 56, 80, 36, 56, 13, 56, 66, 67, 36, 54, 22, 27,\n",
       "       38, 58, 58, 67, 36,  0, 38, 34, 76, 77, 67, 36, 76, 23, 36, 54, 22,\n",
       "       27, 38, 58, 58, 67, 36, 76, 22, 36, 76, 49, 23, 36, 71, 28, 22, 20,\n",
       "       28, 38, 67, 62, 20, 20, 21, 13, 56, 66, 67, 49, 27, 76, 22], dtype=int32)"
      ]
     },
     "execution_count": 5,
     "metadata": {},
     "output_type": "execute_result"
    }
   ],
   "source": [
    "encoded[:100]"
   ]
  },
  {
   "cell_type": "markdown",
   "metadata": {
    "deletable": true,
    "editable": true
   },
   "source": [
    "Since the network is working with individual characters, it's similar to a classification problem in which we are trying to predict the next character from the previous text.  Here's how many 'classes' our network has to pick from."
   ]
  },
  {
   "cell_type": "code",
   "execution_count": 6,
   "metadata": {
    "collapsed": false,
    "deletable": true,
    "editable": true
   },
   "outputs": [
    {
     "data": {
      "text/plain": [
       "83"
      ]
     },
     "execution_count": 6,
     "metadata": {},
     "output_type": "execute_result"
    }
   ],
   "source": [
    "len(vocab)"
   ]
  },
  {
   "cell_type": "markdown",
   "metadata": {
    "deletable": true,
    "editable": true
   },
   "source": [
    "## Making training mini-batches\n",
    "\n",
    "Here is where we'll make our mini-batches for training. Remember that we want our batches to be multiple sequences of some desired number of sequence steps. Considering a simple example, our batches would look like this:\n",
    "\n",
    "<img src=\"assets/sequence_batching@1x.png\" width=500px>\n",
    "\n",
    "\n",
    "<br>\n",
    "We have our text encoded as integers as one long array in `encoded`. Let's create a function that will give us an iterator for our batches. I like using [generator functions](https://jeffknupp.com/blog/2013/04/07/improve-your-python-yield-and-generators-explained/) to do this. Then we can pass `encoded` into this function and get our batch generator.\n",
    "\n",
    "The first thing we need to do is discard some of the text so we only have completely full batches. Each batch contains $N \\times M$ characters, where $N$ is the batch size (the number of sequences) and $M$ is the number of steps. Then, to get the number of batches we can make from some array `arr`, you divide the length of `arr` by the batch size. Once you know the number of batches and the batch size, you can get the total number of characters to keep.\n",
    "\n",
    "After that, we need to split `arr` into $N$ sequences. You can do this using `arr.reshape(size)` where `size` is a tuple containing the dimensions sizes of the reshaped array. We know we want $N$ sequences (`n_seqs` below), let's make that the size of the first dimension. For the second dimension, you can use `-1` as a placeholder in the size, it'll fill up the array with the appropriate data for you. After this, you should have an array that is $N \\times (M * K)$ where $K$ is the number of batches.\n",
    "\n",
    "Now that we have this array, we can iterate through it to get our batches. The idea is each batch is a $N \\times M$ window on the array. For each subsequent batch, the window moves over by `n_steps`. We also want to create both the input and target arrays. Remember that the targets are the inputs shifted over one character. You'll usually see the first input character used as the last target character, so something like this:\n",
    "```python\n",
    "y[:, :-1], y[:, -1] = x[:, 1:], x[:, 0]\n",
    "```\n",
    "where `x` is the input batch and `y` is the target batch.\n",
    "\n",
    "The way I like to do this window is use `range` to take steps of size `n_steps` from $0$ to `arr.shape[1]`, the total number of steps in each sequence. That way, the integers you get from `range` always point to the start of a batch, and each window is `n_steps` wide.\n",
    "\n",
    "> **Exercise:** Write the code for creating batches in the function below. The exercises in this notebook _will not be easy_. I've provided a notebook with solutions alongside this notebook. If you get stuck, checkout the solutions. The most important thing is that you don't copy and paste the code into here, **type out the solution code yourself.**"
   ]
  },
  {
   "cell_type": "code",
   "execution_count": 7,
   "metadata": {
    "collapsed": true,
    "deletable": true,
    "editable": true
   },
   "outputs": [],
   "source": [
    "import math\n",
    "def get_batches(arr, n_seqs, n_steps):\n",
    "    '''Create a generator that returns batches of size\n",
    "       n_seqs x n_steps from arr.\n",
    "       \n",
    "       Arguments\n",
    "       ---------\n",
    "       arr: Array you want to make batches from\n",
    "       n_seqs: Batch size, the number of sequences per batch\n",
    "       n_steps: Number of sequence steps per batch\n",
    "    '''\n",
    "    # Get the number of characters per batch and number of batches we can make\n",
    "    characters_per_batch = n_seqs * n_steps\n",
    "    n_batches = len(arr)//characters_per_batch\n",
    "    \n",
    "    # Keep only enough characters to make full batches\n",
    "    arr = arr[:characters_per_batch * n_batches]\n",
    "    \n",
    "    # Reshape into n_seqs rows\n",
    "    arr = arr.reshape((n_seqs, -1))\n",
    "    \n",
    "    print(arr.shape)\n",
    "    for n in range(0, arr.shape[1], n_steps):\n",
    "        # The features\n",
    "        x = arr[:, n:n+n_steps]\n",
    "        # The targets, shifted by one\n",
    "        y = np.zeros_like(x)\n",
    "        y[:, :-1] = x[:, 1:]\n",
    "        y[:, -1] = x[:, 0]\n",
    "        yield x, y"
   ]
  },
  {
   "cell_type": "markdown",
   "metadata": {
    "deletable": true,
    "editable": true
   },
   "source": [
    "Now I'll make my data sets and we can check out what's going on here. Here I'm going to use a batch size of 10 and 50 sequence steps."
   ]
  },
  {
   "cell_type": "code",
   "execution_count": 8,
   "metadata": {
    "collapsed": false,
    "deletable": true,
    "editable": true
   },
   "outputs": [
    {
     "name": "stdout",
     "output_type": "stream",
     "text": [
      "(10, 198500)\n"
     ]
    }
   ],
   "source": [
    "batches = get_batches(encoded, 10, 50)\n",
    "x, y = next(batches)"
   ]
  },
  {
   "cell_type": "code",
   "execution_count": 9,
   "metadata": {
    "collapsed": false,
    "deletable": true,
    "editable": true
   },
   "outputs": [
    {
     "name": "stdout",
     "output_type": "stream",
     "text": [
      "x\n",
      " [[33 27 38 58 49 56 66 36 57 20]\n",
      " [36 38 34 36 22 71 49 36 40 71]\n",
      " [13 76 22 62 20 20 79 70 56 23]\n",
      " [22 36 12 54 66 76 22 40 36 27]\n",
      " [36 76 49 36 76 23  5 36 23 76]\n",
      " [36 51 49 36 28 38 23 20 71 22]\n",
      " [27 56 22 36 26 71 34 56 36  0]\n",
      " [80 36  2 54 49 36 22 71 28 36]\n",
      " [49 36 76 23 22 78 49 62 36  3]\n",
      " [36 23 38 76 12 36 49 71 36 27]]\n",
      "\n",
      "y\n",
      " [[27 38 58 49 56 66 36 57 20 20]\n",
      " [38 34 36 22 71 49 36 40 71 76]\n",
      " [76 22 62 20 20 79 70 56 23  5]\n",
      " [36 12 54 66 76 22 40 36 27 76]\n",
      " [76 49 36 76 23  5 36 23 76 66]\n",
      " [51 49 36 28 38 23 20 71 22 77]\n",
      " [56 22 36 26 71 34 56 36  0 71]\n",
      " [36  2 54 49 36 22 71 28 36 23]\n",
      " [36 76 23 22 78 49 62 36  3 27]\n",
      " [23 38 76 12 36 49 71 36 27 56]]\n"
     ]
    }
   ],
   "source": [
    "print('x\\n', x[:10, :10])\n",
    "print('\\ny\\n', y[:10, :10])"
   ]
  },
  {
   "cell_type": "markdown",
   "metadata": {
    "deletable": true,
    "editable": true
   },
   "source": [
    "If you implemented `get_batches` correctly, the above output should look something like \n",
    "```\n",
    "x\n",
    " [[55 63 69 22  6 76 45  5 16 35]\n",
    " [ 5 69  1  5 12 52  6  5 56 52]\n",
    " [48 29 12 61 35 35  8 64 76 78]\n",
    " [12  5 24 39 45 29 12 56  5 63]\n",
    " [ 5 29  6  5 29 78 28  5 78 29]\n",
    " [ 5 13  6  5 36 69 78 35 52 12]\n",
    " [63 76 12  5 18 52  1 76  5 58]\n",
    " [34  5 73 39  6  5 12 52 36  5]\n",
    " [ 6  5 29 78 12 79  6 61  5 59]\n",
    " [ 5 78 69 29 24  5  6 52  5 63]]\n",
    "\n",
    "y\n",
    " [[63 69 22  6 76 45  5 16 35 35]\n",
    " [69  1  5 12 52  6  5 56 52 29]\n",
    " [29 12 61 35 35  8 64 76 78 28]\n",
    " [ 5 24 39 45 29 12 56  5 63 29]\n",
    " [29  6  5 29 78 28  5 78 29 45]\n",
    " [13  6  5 36 69 78 35 52 12 43]\n",
    " [76 12  5 18 52  1 76  5 58 52]\n",
    " [ 5 73 39  6  5 12 52 36  5 78]\n",
    " [ 5 29 78 12 79  6 61  5 59 63]\n",
    " [78 69 29 24  5  6 52  5 63 76]]\n",
    " ```\n",
    " although the exact numbers will be different. Check to make sure the data is shifted over one step for `y`."
   ]
  },
  {
   "cell_type": "markdown",
   "metadata": {
    "deletable": true,
    "editable": true
   },
   "source": [
    "## Building the model\n",
    "\n",
    "Below is where you'll build the network. We'll break it up into parts so it's easier to reason about each bit. Then we can connect them up into the whole network.\n",
    "\n",
    "<img src=\"assets/charRNN.png\" width=500px>\n",
    "\n",
    "\n",
    "### Inputs\n",
    "\n",
    "First off we'll create our input placeholders. As usual we need placeholders for the training data and the targets. We'll also create a placeholder for dropout layers called `keep_prob`. This will be a scalar, that is a 0-D tensor. To make a scalar, you create a placeholder without giving it a size.\n",
    "\n",
    "> **Exercise:** Create the input placeholders in the function below."
   ]
  },
  {
   "cell_type": "code",
   "execution_count": 10,
   "metadata": {
    "collapsed": true,
    "deletable": true,
    "editable": true
   },
   "outputs": [],
   "source": [
    "def build_inputs(batch_size, num_steps):\n",
    "    ''' Define placeholders for inputs, targets, and dropout \n",
    "    \n",
    "        Arguments\n",
    "        ---------\n",
    "        batch_size: Batch size, number of sequences per batch\n",
    "        num_steps: Number of sequence steps in a batch\n",
    "        \n",
    "    '''\n",
    "    # Declare placeholders we'll feed into the graph\n",
    "    inputs = tf.placeholder(tf.int32, (batch_size, num_steps), name='inputs')\n",
    "    targets = tf.placeholder(tf.int32, (batch_size, num_steps), name='targets')\n",
    "    \n",
    "    # Keep probability placeholder for drop out layers\n",
    "    keep_prob = tf.placeholder(tf.float32, name=\"keep_prob\")\n",
    "    \n",
    "    return inputs, targets, keep_prob"
   ]
  },
  {
   "cell_type": "markdown",
   "metadata": {
    "deletable": true,
    "editable": true
   },
   "source": [
    "### LSTM Cell\n",
    "\n",
    "Here we will create the LSTM cell we'll use in the hidden layer. We'll use this cell as a building block for the RNN. So we aren't actually defining the RNN here, just the type of cell we'll use in the hidden layer.\n",
    "\n",
    "We first create a basic LSTM cell with\n",
    "\n",
    "```python\n",
    "lstm = tf.contrib.rnn.BasicLSTMCell(num_units)\n",
    "```\n",
    "\n",
    "where `num_units` is the number of units in the hidden layers in the cell. Then we can add dropout by wrapping it with \n",
    "\n",
    "```python\n",
    "tf.contrib.rnn.DropoutWrapper(lstm, output_keep_prob=keep_prob)\n",
    "```\n",
    "You pass in a cell and it will automatically add dropout to the inputs or outputs. Finally, we can stack up the LSTM cells into layers with [`tf.contrib.rnn.MultiRNNCell`](https://www.tensorflow.org/versions/r1.0/api_docs/python/tf/contrib/rnn/MultiRNNCell). With this, you pass in a list of cells and it will send the output of one cell into the next cell. For example,\n",
    "\n",
    "```python\n",
    "tf.contrib.rnn.MultiRNNCell([cell]*num_layers)\n",
    "```\n",
    "\n",
    "This might look a little weird if you know Python well because this will create a list of the same `cell` object. However, TensorFlow will create different weight matrices for all `cell` objects. Even though this is actually multiple LSTM cells stacked on each other, you can treat the multiple layers as one cell.\n",
    "\n",
    "We also need to create an initial cell state of all zeros. This can be done like so\n",
    "\n",
    "```python\n",
    "initial_state = cell.zero_state(batch_size, tf.float32)\n",
    "```\n",
    "\n",
    "> **Exercise:** Below, implement the `build_lstm` function to create these LSTM cells and the initial state."
   ]
  },
  {
   "cell_type": "code",
   "execution_count": 11,
   "metadata": {
    "collapsed": true,
    "deletable": true,
    "editable": true
   },
   "outputs": [],
   "source": [
    "def build_lstm(lstm_size, num_layers, batch_size, keep_prob):\n",
    "    ''' Build LSTM cell.\n",
    "    \n",
    "        Arguments\n",
    "        ---------\n",
    "        keep_prob: Scalar tensor (tf.placeholder) for the dropout keep probability\n",
    "        lstm_size: Size of the hidden layers in the LSTM cells\n",
    "        num_layers: Number of LSTM layers\n",
    "        batch_size: Batch size\n",
    "\n",
    "    '''\n",
    "    ### Build the LSTM Cell\n",
    "    # Use a basic LSTM cell\n",
    "    lstm = tf.contrib.rnn.BasicLSTMCell(lstm_size)\n",
    "    \n",
    "    # Add dropout to the cell outputs\n",
    "    drop = tf.contrib.rnn.DropoutWrapper(lstm, output_keep_prob=keep_prob)\n",
    "    \n",
    "    # Stack up multiple LSTM layers, for deep learning\n",
    "    cell = tf.contrib.rnn.MultiRNNCell([drop]*num_layers)\n",
    "    initial_state = cell.zero_state(batch_size, tf.float32)\n",
    "    \n",
    "    return cell, initial_state"
   ]
  },
  {
   "cell_type": "markdown",
   "metadata": {
    "deletable": true,
    "editable": true
   },
   "source": [
    "### RNN Output\n",
    "\n",
    "Here we'll create the output layer. We need to connect the output of the RNN cells to a full connected layer with a softmax output. The softmax output gives us a probability distribution we can use to predict the next character, so we want this layer to have size $C$, the number of classes/characters we have in our text.\n",
    "\n",
    "If our input has batch size $N$, number of steps $M$, and the hidden layer has $L$ hidden units, then the output is a 3D tensor with size $N \\times M \\times L$. The output of each LSTM cell has size $L$, we have $M$ of them, one for each sequence step, and we have $N$ sequences. So the total size is $N \\times M \\times L$. \n",
    "\n",
    "We are using the same fully connected layer, the same weights, for each of the outputs. Then, to make things easier, we should reshape the outputs into a 2D tensor with shape $(M * N) \\times L$. That is, one row for each sequence and step, where the values of each row are the output from the LSTM cells. We get the LSTM output as a list, `lstm_output`. First we need to concatenate this whole list into one array with [`tf.concat`](https://www.tensorflow.org/api_docs/python/tf/concat). Then, reshape it (with `tf.reshape`) to size $(M * N) \\times L$.\n",
    "\n",
    "One we have the outputs reshaped, we can do the matrix multiplication with the weights. We need to wrap the weight and bias variables in a variable scope with `tf.variable_scope(scope_name)` because there are weights being created in the LSTM cells. TensorFlow will throw an error if the weights created here have the same names as the weights created in the LSTM cells, which they will be default. To avoid this, we wrap the variables in a variable scope so we can give them unique names.\n",
    "\n",
    "> **Exercise:** Implement the output layer in the function below."
   ]
  },
  {
   "cell_type": "code",
   "execution_count": 24,
   "metadata": {
    "collapsed": true,
    "deletable": true,
    "editable": true
   },
   "outputs": [],
   "source": [
    "def build_output(lstm_output, in_size, out_size):\n",
    "    ''' Build a softmax layer, return the softmax output and logits.\n",
    "    \n",
    "        Arguments\n",
    "        ---------\n",
    "        \n",
    "        lstm_output: List of output tensors from the LSTM layer\n",
    "        in_size: Size of the input tensor, for example, size of the LSTM cells\n",
    "        out_size: Size of this softmax layer\n",
    "    \n",
    "    '''\n",
    "\n",
    "    # Reshape output so it's a bunch of rows, one row for each step for each sequence.\n",
    "    # Concatenate lstm_output over axis 1 (the columns)\n",
    "    # seq_output = tf.concat(lstm_output, axis=1)\n",
    "    # Reshape seq_output to a 2D tensor with lstm_size columns\n",
    "    x = tf.reshape(lstm_output, (-1, in_size))\n",
    "    \n",
    "    # Connect the RNN outputs to a softmax layer\n",
    "    with tf.variable_scope('softmax'):\n",
    "        # Create the weight and bias variables here\n",
    "        softmax_w = tf.Variable(tf.truncated_normal((in_size, out_size), stddev=0.1))\n",
    "        softmax_b = tf.Variable(tf.zeros(out_size))\n",
    "    \n",
    "    # Since output is a bunch of rows of RNN cell outputs, logits will be a bunch\n",
    "    # of rows of logit outputs, one for each step and sequence\n",
    "    logits = tf.matmul(x, softmax_w) + softmax_b\n",
    "    \n",
    "    # Use softmax to get the probabilities for predicted characters\n",
    "    out = tf.nn.softmax(logits=logits)\n",
    "    \n",
    "    return out, logits"
   ]
  },
  {
   "cell_type": "markdown",
   "metadata": {
    "deletable": true,
    "editable": true
   },
   "source": [
    "### Training loss\n",
    "\n",
    "Next up is the training loss. We get the logits and targets and calculate the softmax cross-entropy loss. First we need to one-hot encode the targets, we're getting them as encoded characters. Then, reshape the one-hot targets so it's a 2D tensor with size $(M*N) \\times C$ where $C$ is the number of classes/characters we have. Remember that we reshaped the LSTM outputs and ran them through a fully connected layer with $C$ units. So our logits will also have size $(M*N) \\times C$.\n",
    "\n",
    "Then we run the logits and targets through `tf.nn.softmax_cross_entropy_with_logits` and find the mean to get the loss.\n",
    "\n",
    ">**Exercise:** Implement the loss calculation in the function below."
   ]
  },
  {
   "cell_type": "code",
   "execution_count": 35,
   "metadata": {
    "collapsed": true,
    "deletable": true,
    "editable": true
   },
   "outputs": [],
   "source": [
    "def build_loss(logits, targets, lstm_size, num_classes):\n",
    "    ''' Calculate the loss from the logits and the targets.\n",
    "    \n",
    "        Arguments\n",
    "        ---------\n",
    "        logits: Logits from final fully connected layer\n",
    "        targets: Targets for supervised learning\n",
    "        lstm_size: Number of LSTM hidden units\n",
    "        num_classes: Number of classes in targets\n",
    "        \n",
    "    '''\n",
    "    \n",
    "    # One-hot encode targets and reshape to match logits, one row per sequence per step\n",
    "    y_one_hot = tf.one_hot(targets, num_classes)\n",
    "    y_reshaped = tf.reshape(y_one_hot, logits.get_shape())\n",
    "    \n",
    "    # Softmax cross entropy loss\n",
    "    loss = tf.nn.softmax_cross_entropy_with_logits(labels=y_reshaped, logits=logits)\n",
    "    loss = tf.reduce_mean(loss)\n",
    "    \n",
    "    return loss"
   ]
  },
  {
   "cell_type": "markdown",
   "metadata": {
    "deletable": true,
    "editable": true
   },
   "source": [
    "### Optimizer\n",
    "\n",
    "Here we build the optimizer. Normal RNNs have have issues gradients exploding and disappearing. LSTMs fix the disappearance problem, but the gradients can still grow without bound. To fix this, we can clip the gradients above some threshold. That is, if a gradient is larger than that threshold, we set it to the threshold. This will ensure the gradients never grow overly large. Then we use an AdamOptimizer for the learning step."
   ]
  },
  {
   "cell_type": "code",
   "execution_count": 36,
   "metadata": {
    "collapsed": true,
    "deletable": true,
    "editable": true
   },
   "outputs": [],
   "source": [
    "def build_optimizer(loss, learning_rate, grad_clip):\n",
    "    ''' Build optmizer for training, using gradient clipping.\n",
    "    \n",
    "        Arguments:\n",
    "        loss: Network loss\n",
    "        learning_rate: Learning rate for optimizer\n",
    "    \n",
    "    '''\n",
    "    \n",
    "    # Optimizer for training, using gradient clipping to control exploding gradients\n",
    "    tvars = tf.trainable_variables()\n",
    "    grads, _ = tf.clip_by_global_norm(tf.gradients(loss, tvars), grad_clip)\n",
    "    train_op = tf.train.AdamOptimizer(learning_rate)\n",
    "    optimizer = train_op.apply_gradients(zip(grads, tvars))\n",
    "    \n",
    "    return optimizer"
   ]
  },
  {
   "cell_type": "markdown",
   "metadata": {
    "deletable": true,
    "editable": true
   },
   "source": [
    "### Build the network\n",
    "\n",
    "Now we can put all the pieces together and build a class for the network. To actually run data through the LSTM cells, we will use [`tf.nn.dynamic_rnn`](https://www.tensorflow.org/versions/r1.0/api_docs/python/tf/nn/dynamic_rnn). This function will pass the hidden and cell states across LSTM cells appropriately for us. It returns the outputs for each LSTM cell at each step for each sequence in the mini-batch. It also gives us the final LSTM state. We want to save this state as `final_state` so we can pass it to the first LSTM cell in the the next mini-batch run. For `tf.nn.dynamic_rnn`, we pass in the cell and initial state we get from `build_lstm`, as well as our input sequences. Also, we need to one-hot encode the inputs before going into the RNN. \n",
    "\n",
    "> **Exercise:** Use the functions you've implemented previously and `tf.nn.dynamic_rnn` to build the network."
   ]
  },
  {
   "cell_type": "code",
   "execution_count": 37,
   "metadata": {
    "collapsed": true,
    "deletable": true,
    "editable": true
   },
   "outputs": [],
   "source": [
    "class CharRNN:\n",
    "    \n",
    "    def __init__(self, num_classes, batch_size=64, num_steps=50, \n",
    "                       lstm_size=128, num_layers=2, learning_rate=0.001, \n",
    "                       grad_clip=5, sampling=False):\n",
    "    \n",
    "        # When we're using this network for sampling later, we'll be passing in\n",
    "        # one character at a time, so providing an option for that\n",
    "        if sampling == True:\n",
    "            batch_size, num_steps = 1, 1\n",
    "        else:\n",
    "            batch_size, num_steps = batch_size, num_steps\n",
    "\n",
    "        tf.reset_default_graph()\n",
    "        \n",
    "        # Build the input placeholder tensors\n",
    "        self.inputs, self.targets, self.keep_prob = build_inputs(batch_size=batch_size, num_steps=num_steps)\n",
    "\n",
    "        # Build the LSTM cell\n",
    "        cell, self.initial_state = build_lstm(lstm_size=lstm_size, num_layers=num_layers, batch_size=batch_size, keep_prob=self.keep_prob)\n",
    "\n",
    "        ### Run the data through the RNN layers\n",
    "        # First, one-hot encode the input tokens\n",
    "        x_one_hot = tf.one_hot(self.inputs, num_classes)\n",
    "        \n",
    "        # Run each sequence step through the RNN with tf.nn.dynamic_rnn \n",
    "        outputs, state = tf.nn.dynamic_rnn(cell, x_one_hot, initial_state=self.initial_state)\n",
    "        self.final_state = state\n",
    "        \n",
    "        # Get softmax predictions and logits\n",
    "        self.prediction, self.logits = build_output(outputs, lstm_size, num_classes)\n",
    "        \n",
    "        # Loss and optimizer (with gradient clipping)\n",
    "        self.loss = build_loss(self.logits, self.targets, lstm_size, num_classes)\n",
    "        self.optimizer = build_optimizer(self.loss, learning_rate, grad_clip)"
   ]
  },
  {
   "cell_type": "markdown",
   "metadata": {
    "deletable": true,
    "editable": true
   },
   "source": [
    "## Hyperparameters\n",
    "\n",
    "Here are the hyperparameters for the network.\n",
    "\n",
    "* `batch_size` - Number of sequences running through the network in one pass.\n",
    "* `num_steps` - Number of characters in the sequence the network is trained on. Larger is better typically, the network will learn more long range dependencies. But it takes longer to train. 100 is typically a good number here.\n",
    "* `lstm_size` - The number of units in the hidden layers.\n",
    "* `num_layers` - Number of hidden LSTM layers to use\n",
    "* `learning_rate` - Learning rate for training\n",
    "* `keep_prob` - The dropout keep probability when training. If you're network is overfitting, try decreasing this.\n",
    "\n",
    "Here's some good advice from Andrej Karpathy on training the network. I'm going to copy it in here for your benefit, but also link to [where it originally came from](https://github.com/karpathy/char-rnn#tips-and-tricks).\n",
    "\n",
    "> ## Tips and Tricks\n",
    "\n",
    ">### Monitoring Validation Loss vs. Training Loss\n",
    ">If you're somewhat new to Machine Learning or Neural Networks it can take a bit of expertise to get good models. The most important quantity to keep track of is the difference between your training loss (printed during training) and the validation loss (printed once in a while when the RNN is run on the validation data (by default every 1000 iterations)). In particular:\n",
    "\n",
    "> - If your training loss is much lower than validation loss then this means the network might be **overfitting**. Solutions to this are to decrease your network size, or to increase dropout. For example you could try dropout of 0.5 and so on.\n",
    "> - If your training/validation loss are about equal then your model is **underfitting**. Increase the size of your model (either number of layers or the raw number of neurons per layer)\n",
    "\n",
    "> ### Approximate number of parameters\n",
    "\n",
    "> The two most important parameters that control the model are `lstm_size` and `num_layers`. I would advise that you always use `num_layers` of either 2/3. The `lstm_size` can be adjusted based on how much data you have. The two important quantities to keep track of here are:\n",
    "\n",
    "> - The number of parameters in your model. This is printed when you start training.\n",
    "> - The size of your dataset. 1MB file is approximately 1 million characters.\n",
    "\n",
    ">These two should be about the same order of magnitude. It's a little tricky to tell. Here are some examples:\n",
    "\n",
    "> - I have a 100MB dataset and I'm using the default parameter settings (which currently print 150K parameters). My data size is significantly larger (100 mil >> 0.15 mil), so I expect to heavily underfit. I am thinking I can comfortably afford to make `lstm_size` larger.\n",
    "> - I have a 10MB dataset and running a 10 million parameter model. I'm slightly nervous and I'm carefully monitoring my validation loss. If it's larger than my training loss then I may want to try to increase dropout a bit and see if that helps the validation loss.\n",
    "\n",
    "> ### Best models strategy\n",
    "\n",
    ">The winning strategy to obtaining very good models (if you have the compute time) is to always err on making the network larger (as large as you're willing to wait for it to compute) and then try different dropout values (between 0,1). Whatever model has the best validation performance (the loss, written in the checkpoint filename, low is good) is the one you should use in the end.\n",
    "\n",
    ">It is very common in deep learning to run many different models with many different hyperparameter settings, and in the end take whatever checkpoint gave the best validation performance.\n",
    "\n",
    ">By the way, the size of your training and validation splits are also parameters. Make sure you have a decent amount of data in your validation set or otherwise the validation performance will be noisy and not very informative."
   ]
  },
  {
   "cell_type": "code",
   "execution_count": 38,
   "metadata": {
    "collapsed": true,
    "deletable": true,
    "editable": true
   },
   "outputs": [],
   "source": [
    "batch_size = 10         # Sequences per batch\n",
    "num_steps = 50          # Number of sequence steps per batch\n",
    "lstm_size = 128         # Size of hidden layers in LSTMs\n",
    "num_layers = 2          # Number of LSTM layers\n",
    "learning_rate = 0.01    # Learning rate\n",
    "keep_prob = 0.5         # Dropout keep probability"
   ]
  },
  {
   "cell_type": "markdown",
   "metadata": {
    "deletable": true,
    "editable": true
   },
   "source": [
    "## Time for training\n",
    "\n",
    "This is typical training code, passing inputs and targets into the network, then running the optimizer. Here we also get back the final LSTM state for the mini-batch. Then, we pass that state back into the network so the next batch can continue the state from the previous batch. And every so often (set by `save_every_n`) I save a checkpoint.\n",
    "\n",
    "Here I'm saving checkpoints with the format\n",
    "\n",
    "`i{iteration number}_l{# hidden layer units}.ckpt`\n",
    "\n",
    "> **Exercise:** Set the hyperparameters above to train the network. Watch the training loss, it should be consistently dropping. Also, I highly advise running this on a GPU."
   ]
  },
  {
   "cell_type": "code",
   "execution_count": 41,
   "metadata": {
    "collapsed": false,
    "deletable": true,
    "editable": true,
    "scrolled": true
   },
   "outputs": [
    {
     "name": "stdout",
     "output_type": "stream",
     "text": [
      "(10, 198500)\n",
      "Epoch: 1/20...  Training Step: 200...  Training loss: 2.5973...  0.0818 sec/batch\n",
      "Epoch: 1/20...  Training Step: 400...  Training loss: 2.2504...  0.0915 sec/batch\n",
      "Epoch: 1/20...  Training Step: 600...  Training loss: 1.9755...  0.0898 sec/batch\n",
      "Epoch: 1/20...  Training Step: 800...  Training loss: 2.0311...  0.0868 sec/batch\n",
      "Epoch: 1/20...  Training Step: 1000...  Training loss: 2.0396...  0.0778 sec/batch\n",
      "Epoch: 1/20...  Training Step: 1200...  Training loss: 2.0211...  0.0766 sec/batch\n",
      "Epoch: 1/20...  Training Step: 1400...  Training loss: 2.1020...  0.0715 sec/batch\n",
      "Epoch: 1/20...  Training Step: 1600...  Training loss: 1.9641...  0.0835 sec/batch\n",
      "Epoch: 1/20...  Training Step: 1800...  Training loss: 1.9971...  0.0851 sec/batch\n",
      "Epoch: 1/20...  Training Step: 2000...  Training loss: 1.9044...  0.0829 sec/batch\n",
      "Epoch: 1/20...  Training Step: 2200...  Training loss: 1.8452...  0.0560 sec/batch\n",
      "Epoch: 1/20...  Training Step: 2400...  Training loss: 1.9704...  0.0763 sec/batch\n",
      "Epoch: 1/20...  Training Step: 2600...  Training loss: 1.8514...  0.1052 sec/batch\n",
      "Epoch: 1/20...  Training Step: 2800...  Training loss: 1.7946...  0.0903 sec/batch\n",
      "Epoch: 1/20...  Training Step: 3000...  Training loss: 1.8837...  0.0653 sec/batch\n",
      "Epoch: 1/20...  Training Step: 3200...  Training loss: 1.8766...  0.0828 sec/batch\n",
      "Epoch: 1/20...  Training Step: 3400...  Training loss: 1.8277...  0.0836 sec/batch\n",
      "Epoch: 1/20...  Training Step: 3600...  Training loss: 1.8323...  0.0816 sec/batch\n",
      "Epoch: 1/20...  Training Step: 3800...  Training loss: 1.8101...  0.0791 sec/batch\n",
      "(10, 198500)\n",
      "Epoch: 2/20...  Training Step: 4000...  Training loss: 1.7844...  0.0619 sec/batch\n",
      "Epoch: 2/20...  Training Step: 4200...  Training loss: 1.7850...  0.0767 sec/batch\n",
      "Epoch: 2/20...  Training Step: 4400...  Training loss: 1.7910...  0.0782 sec/batch\n",
      "Epoch: 2/20...  Training Step: 4600...  Training loss: 1.8628...  0.0837 sec/batch\n",
      "Epoch: 2/20...  Training Step: 4800...  Training loss: 1.7984...  0.0719 sec/batch\n",
      "Epoch: 2/20...  Training Step: 5000...  Training loss: 1.7386...  0.0821 sec/batch\n",
      "Epoch: 2/20...  Training Step: 5200...  Training loss: 1.9023...  0.0782 sec/batch\n",
      "Epoch: 2/20...  Training Step: 5400...  Training loss: 1.8240...  0.0718 sec/batch\n",
      "Epoch: 2/20...  Training Step: 5600...  Training loss: 1.8046...  0.0580 sec/batch\n",
      "Epoch: 2/20...  Training Step: 5800...  Training loss: 1.7247...  0.0685 sec/batch\n",
      "Epoch: 2/20...  Training Step: 6000...  Training loss: 1.6160...  0.0647 sec/batch\n",
      "Epoch: 2/20...  Training Step: 6200...  Training loss: 1.7017...  0.0805 sec/batch\n",
      "Epoch: 2/20...  Training Step: 6400...  Training loss: 1.7695...  0.0881 sec/batch\n",
      "Epoch: 2/20...  Training Step: 6600...  Training loss: 1.9653...  0.0871 sec/batch\n",
      "Epoch: 2/20...  Training Step: 6800...  Training loss: 1.8153...  0.0815 sec/batch\n",
      "Epoch: 2/20...  Training Step: 7000...  Training loss: 1.7031...  0.0836 sec/batch\n",
      "Epoch: 2/20...  Training Step: 7200...  Training loss: 1.7776...  0.0856 sec/batch\n",
      "Epoch: 2/20...  Training Step: 7400...  Training loss: 1.6155...  0.0694 sec/batch\n",
      "Epoch: 2/20...  Training Step: 7600...  Training loss: 1.7581...  0.0818 sec/batch\n",
      "Epoch: 2/20...  Training Step: 7800...  Training loss: 1.8368...  0.0892 sec/batch\n",
      "(10, 198500)\n",
      "Epoch: 3/20...  Training Step: 8000...  Training loss: 1.7175...  0.0775 sec/batch\n",
      "Epoch: 3/20...  Training Step: 8200...  Training loss: 1.6628...  0.0794 sec/batch\n",
      "Epoch: 3/20...  Training Step: 8400...  Training loss: 1.9561...  0.0827 sec/batch\n",
      "Epoch: 3/20...  Training Step: 8600...  Training loss: 1.7828...  0.0927 sec/batch\n",
      "Epoch: 3/20...  Training Step: 8800...  Training loss: 1.8760...  0.0795 sec/batch\n",
      "Epoch: 3/20...  Training Step: 9000...  Training loss: 1.7080...  0.0678 sec/batch\n",
      "Epoch: 3/20...  Training Step: 9200...  Training loss: 1.6663...  0.0703 sec/batch\n",
      "Epoch: 3/20...  Training Step: 9400...  Training loss: 1.8039...  0.0719 sec/batch\n",
      "Epoch: 3/20...  Training Step: 9600...  Training loss: 1.6464...  0.0833 sec/batch\n",
      "Epoch: 3/20...  Training Step: 9800...  Training loss: 1.7969...  0.0912 sec/batch\n",
      "Epoch: 3/20...  Training Step: 10000...  Training loss: 1.6593...  0.0867 sec/batch\n",
      "Epoch: 3/20...  Training Step: 10200...  Training loss: 1.9129...  0.0797 sec/batch\n",
      "Epoch: 3/20...  Training Step: 10400...  Training loss: 1.8118...  0.0795 sec/batch\n",
      "Epoch: 3/20...  Training Step: 10600...  Training loss: 1.8330...  0.0926 sec/batch\n",
      "Epoch: 3/20...  Training Step: 10800...  Training loss: 1.6328...  0.0732 sec/batch\n",
      "Epoch: 3/20...  Training Step: 11000...  Training loss: 1.6731...  0.0798 sec/batch\n",
      "Epoch: 3/20...  Training Step: 11200...  Training loss: 1.6737...  0.0686 sec/batch\n",
      "Epoch: 3/20...  Training Step: 11400...  Training loss: 1.6751...  0.0862 sec/batch\n",
      "Epoch: 3/20...  Training Step: 11600...  Training loss: 1.7915...  0.0732 sec/batch\n",
      "Epoch: 3/20...  Training Step: 11800...  Training loss: 1.7935...  0.0792 sec/batch\n",
      "(10, 198500)\n",
      "Epoch: 4/20...  Training Step: 12000...  Training loss: 1.6985...  0.0875 sec/batch\n",
      "Epoch: 4/20...  Training Step: 12200...  Training loss: 1.6996...  0.0924 sec/batch\n",
      "Epoch: 4/20...  Training Step: 12400...  Training loss: 1.8166...  0.0884 sec/batch\n",
      "Epoch: 4/20...  Training Step: 12600...  Training loss: 1.6666...  0.0884 sec/batch\n",
      "Epoch: 4/20...  Training Step: 12800...  Training loss: 1.7019...  0.0849 sec/batch\n",
      "Epoch: 4/20...  Training Step: 13000...  Training loss: 1.9055...  0.0823 sec/batch\n",
      "Epoch: 4/20...  Training Step: 13200...  Training loss: 1.8495...  0.0785 sec/batch\n",
      "Epoch: 4/20...  Training Step: 13400...  Training loss: 1.7321...  0.0776 sec/batch\n",
      "Epoch: 4/20...  Training Step: 13600...  Training loss: 1.6951...  0.0700 sec/batch\n",
      "Epoch: 4/20...  Training Step: 13800...  Training loss: 1.6934...  0.0896 sec/batch\n",
      "Epoch: 4/20...  Training Step: 14000...  Training loss: 1.6961...  0.0881 sec/batch\n",
      "Epoch: 4/20...  Training Step: 14200...  Training loss: 1.7098...  0.0809 sec/batch\n",
      "Epoch: 4/20...  Training Step: 14400...  Training loss: 1.7141...  0.0820 sec/batch\n",
      "Epoch: 4/20...  Training Step: 14600...  Training loss: 1.7649...  0.0635 sec/batch\n",
      "Epoch: 4/20...  Training Step: 14800...  Training loss: 1.6554...  0.0775 sec/batch\n",
      "Epoch: 4/20...  Training Step: 15000...  Training loss: 1.6693...  0.0780 sec/batch\n",
      "Epoch: 4/20...  Training Step: 15200...  Training loss: 1.8267...  0.0853 sec/batch\n",
      "Epoch: 4/20...  Training Step: 15400...  Training loss: 1.9223...  0.0798 sec/batch\n",
      "Epoch: 4/20...  Training Step: 15600...  Training loss: 1.7038...  0.0930 sec/batch\n",
      "Epoch: 4/20...  Training Step: 15800...  Training loss: 1.7836...  0.0761 sec/batch\n",
      "(10, 198500)\n",
      "Epoch: 5/20...  Training Step: 16000...  Training loss: 1.6455...  0.0707 sec/batch\n",
      "Epoch: 5/20...  Training Step: 16200...  Training loss: 1.7853...  0.0805 sec/batch\n",
      "Epoch: 5/20...  Training Step: 16400...  Training loss: 1.6658...  0.0818 sec/batch\n",
      "Epoch: 5/20...  Training Step: 16600...  Training loss: 1.7517...  0.0809 sec/batch\n",
      "Epoch: 5/20...  Training Step: 16800...  Training loss: 1.6279...  0.0804 sec/batch\n",
      "Epoch: 5/20...  Training Step: 17000...  Training loss: 1.5552...  0.0804 sec/batch\n",
      "Epoch: 5/20...  Training Step: 17200...  Training loss: 1.7843...  0.0853 sec/batch\n",
      "Epoch: 5/20...  Training Step: 17400...  Training loss: 1.6846...  0.0759 sec/batch\n",
      "Epoch: 5/20...  Training Step: 17600...  Training loss: 1.5964...  0.0815 sec/batch\n",
      "Epoch: 5/20...  Training Step: 17800...  Training loss: 1.7376...  0.0806 sec/batch\n",
      "Epoch: 5/20...  Training Step: 18000...  Training loss: 1.5067...  0.0827 sec/batch\n",
      "Epoch: 5/20...  Training Step: 18200...  Training loss: 1.6510...  0.0824 sec/batch\n",
      "Epoch: 5/20...  Training Step: 18400...  Training loss: 1.8371...  0.0879 sec/batch\n",
      "Epoch: 5/20...  Training Step: 18600...  Training loss: 1.5814...  0.0798 sec/batch\n",
      "Epoch: 5/20...  Training Step: 18800...  Training loss: 1.8213...  0.0806 sec/batch\n",
      "Epoch: 5/20...  Training Step: 19000...  Training loss: 1.6253...  0.0829 sec/batch\n",
      "Epoch: 5/20...  Training Step: 19200...  Training loss: 1.7447...  0.0603 sec/batch\n",
      "Epoch: 5/20...  Training Step: 19400...  Training loss: 1.5788...  0.0817 sec/batch\n",
      "Epoch: 5/20...  Training Step: 19600...  Training loss: 1.6282...  0.0814 sec/batch\n",
      "Epoch: 5/20...  Training Step: 19800...  Training loss: 2.0411...  0.0756 sec/batch\n",
      "(10, 198500)\n",
      "Epoch: 6/20...  Training Step: 20000...  Training loss: 1.5440...  0.0816 sec/batch\n",
      "Epoch: 6/20...  Training Step: 20200...  Training loss: 1.6612...  0.0817 sec/batch\n",
      "Epoch: 6/20...  Training Step: 20400...  Training loss: 1.6177...  0.0806 sec/batch\n",
      "Epoch: 6/20...  Training Step: 20600...  Training loss: 1.7055...  0.0819 sec/batch\n",
      "Epoch: 6/20...  Training Step: 20800...  Training loss: 1.7340...  0.0818 sec/batch\n",
      "Epoch: 6/20...  Training Step: 21000...  Training loss: 1.6057...  0.0816 sec/batch\n",
      "Epoch: 6/20...  Training Step: 21200...  Training loss: 1.5072...  0.0840 sec/batch\n",
      "Epoch: 6/20...  Training Step: 21400...  Training loss: 1.6562...  0.0817 sec/batch\n",
      "Epoch: 6/20...  Training Step: 21600...  Training loss: 1.7070...  0.0810 sec/batch\n",
      "Epoch: 6/20...  Training Step: 21800...  Training loss: 1.6074...  0.0827 sec/batch\n",
      "Epoch: 6/20...  Training Step: 22000...  Training loss: 1.6799...  0.0780 sec/batch\n",
      "Epoch: 6/20...  Training Step: 22200...  Training loss: 1.8412...  0.0830 sec/batch\n",
      "Epoch: 6/20...  Training Step: 22400...  Training loss: 1.7109...  0.0807 sec/batch\n",
      "Epoch: 6/20...  Training Step: 22600...  Training loss: 1.5683...  0.0819 sec/batch\n",
      "Epoch: 6/20...  Training Step: 22800...  Training loss: 1.4649...  0.0850 sec/batch\n",
      "Epoch: 6/20...  Training Step: 23000...  Training loss: 1.5758...  0.0833 sec/batch\n",
      "Epoch: 6/20...  Training Step: 23200...  Training loss: 1.5945...  0.0819 sec/batch\n",
      "Epoch: 6/20...  Training Step: 23400...  Training loss: 1.7716...  0.0797 sec/batch\n",
      "Epoch: 6/20...  Training Step: 23600...  Training loss: 1.7854...  0.0821 sec/batch\n",
      "Epoch: 6/20...  Training Step: 23800...  Training loss: 1.6551...  0.0825 sec/batch\n",
      "(10, 198500)\n",
      "Epoch: 7/20...  Training Step: 24000...  Training loss: 1.5993...  0.0833 sec/batch\n",
      "Epoch: 7/20...  Training Step: 24200...  Training loss: 1.7108...  0.0841 sec/batch\n",
      "Epoch: 7/20...  Training Step: 24400...  Training loss: 1.8465...  0.0820 sec/batch\n",
      "Epoch: 7/20...  Training Step: 24600...  Training loss: 1.7538...  0.0834 sec/batch\n",
      "Epoch: 7/20...  Training Step: 24800...  Training loss: 1.5874...  0.0800 sec/batch\n",
      "Epoch: 7/20...  Training Step: 25000...  Training loss: 1.6388...  0.0817 sec/batch\n",
      "Epoch: 7/20...  Training Step: 25200...  Training loss: 1.6316...  0.0804 sec/batch\n",
      "Epoch: 7/20...  Training Step: 25400...  Training loss: 1.7087...  0.0773 sec/batch\n",
      "Epoch: 7/20...  Training Step: 25600...  Training loss: 1.7188...  0.0812 sec/batch\n",
      "Epoch: 7/20...  Training Step: 25800...  Training loss: 1.6191...  0.0818 sec/batch\n",
      "Epoch: 7/20...  Training Step: 26000...  Training loss: 1.6929...  0.0844 sec/batch\n",
      "Epoch: 7/20...  Training Step: 26200...  Training loss: 1.7244...  0.0837 sec/batch\n",
      "Epoch: 7/20...  Training Step: 26400...  Training loss: 1.7293...  0.0818 sec/batch\n",
      "Epoch: 7/20...  Training Step: 26600...  Training loss: 1.6304...  0.0816 sec/batch\n",
      "Epoch: 7/20...  Training Step: 26800...  Training loss: 1.8463...  0.0819 sec/batch\n",
      "Epoch: 7/20...  Training Step: 27000...  Training loss: 1.5422...  0.0892 sec/batch\n",
      "Epoch: 7/20...  Training Step: 27200...  Training loss: 1.6128...  0.0806 sec/batch\n",
      "Epoch: 7/20...  Training Step: 27400...  Training loss: 1.5623...  0.0820 sec/batch\n",
      "Epoch: 7/20...  Training Step: 27600...  Training loss: 1.8624...  0.0809 sec/batch\n",
      "(10, 198500)\n",
      "Epoch: 8/20...  Training Step: 27800...  Training loss: 1.7111...  0.0818 sec/batch\n",
      "Epoch: 8/20...  Training Step: 28000...  Training loss: 1.6443...  0.0823 sec/batch\n",
      "Epoch: 8/20...  Training Step: 28200...  Training loss: 1.6648...  0.0832 sec/batch\n",
      "Epoch: 8/20...  Training Step: 28400...  Training loss: 1.6517...  0.0811 sec/batch\n",
      "Epoch: 8/20...  Training Step: 28600...  Training loss: 1.5630...  0.0812 sec/batch\n",
      "Epoch: 8/20...  Training Step: 28800...  Training loss: 1.7717...  0.0811 sec/batch\n",
      "Epoch: 8/20...  Training Step: 29000...  Training loss: 1.6545...  0.0796 sec/batch\n",
      "Epoch: 8/20...  Training Step: 29200...  Training loss: 1.6650...  0.0822 sec/batch\n",
      "Epoch: 8/20...  Training Step: 29400...  Training loss: 1.7210...  0.0824 sec/batch\n",
      "Epoch: 8/20...  Training Step: 29600...  Training loss: 1.4438...  0.0805 sec/batch\n",
      "Epoch: 8/20...  Training Step: 29800...  Training loss: 1.7366...  0.0957 sec/batch\n",
      "Epoch: 8/20...  Training Step: 30000...  Training loss: 1.7822...  0.0992 sec/batch\n",
      "Epoch: 8/20...  Training Step: 30200...  Training loss: 1.5792...  0.0829 sec/batch\n",
      "Epoch: 8/20...  Training Step: 30400...  Training loss: 1.7062...  0.0849 sec/batch\n",
      "Epoch: 8/20...  Training Step: 30600...  Training loss: 1.7148...  0.0804 sec/batch\n",
      "Epoch: 8/20...  Training Step: 30800...  Training loss: 1.7277...  0.0817 sec/batch\n",
      "Epoch: 8/20...  Training Step: 31000...  Training loss: 1.6012...  0.0816 sec/batch\n",
      "Epoch: 8/20...  Training Step: 31200...  Training loss: 1.7257...  0.0868 sec/batch\n",
      "Epoch: 8/20...  Training Step: 31400...  Training loss: 1.7193...  0.0806 sec/batch\n",
      "Epoch: 8/20...  Training Step: 31600...  Training loss: 1.7879...  0.0860 sec/batch\n",
      "(10, 198500)\n",
      "Epoch: 9/20...  Training Step: 31800...  Training loss: 1.7355...  0.0736 sec/batch\n",
      "Epoch: 9/20...  Training Step: 32000...  Training loss: 1.7305...  0.0686 sec/batch\n",
      "Epoch: 9/20...  Training Step: 32200...  Training loss: 1.7111...  0.0857 sec/batch\n",
      "Epoch: 9/20...  Training Step: 32400...  Training loss: 1.5682...  0.0846 sec/batch\n",
      "Epoch: 9/20...  Training Step: 32600...  Training loss: 1.5634...  0.0850 sec/batch\n",
      "Epoch: 9/20...  Training Step: 32800...  Training loss: 1.6068...  0.0732 sec/batch\n",
      "Epoch: 9/20...  Training Step: 33000...  Training loss: 1.5438...  0.0813 sec/batch\n",
      "Epoch: 9/20...  Training Step: 33200...  Training loss: 1.6219...  0.0859 sec/batch\n",
      "Epoch: 9/20...  Training Step: 33400...  Training loss: 1.7531...  0.0797 sec/batch\n",
      "Epoch: 9/20...  Training Step: 33600...  Training loss: 1.5508...  0.0848 sec/batch\n",
      "Epoch: 9/20...  Training Step: 33800...  Training loss: 1.8093...  0.0871 sec/batch\n",
      "Epoch: 9/20...  Training Step: 34000...  Training loss: 1.8245...  0.0849 sec/batch\n",
      "Epoch: 9/20...  Training Step: 34200...  Training loss: 1.6335...  0.0807 sec/batch\n",
      "Epoch: 9/20...  Training Step: 34400...  Training loss: 1.5221...  0.0727 sec/batch\n",
      "Epoch: 9/20...  Training Step: 34600...  Training loss: 1.6407...  0.0744 sec/batch\n",
      "Epoch: 9/20...  Training Step: 34800...  Training loss: 1.7409...  0.0828 sec/batch\n",
      "Epoch: 9/20...  Training Step: 35000...  Training loss: 1.6174...  0.0816 sec/batch\n",
      "Epoch: 9/20...  Training Step: 35200...  Training loss: 1.7150...  0.0864 sec/batch\n",
      "Epoch: 9/20...  Training Step: 35400...  Training loss: 1.6223...  0.0816 sec/batch\n",
      "Epoch: 9/20...  Training Step: 35600...  Training loss: 1.8083...  0.0728 sec/batch\n",
      "(10, 198500)\n",
      "Epoch: 10/20...  Training Step: 35800...  Training loss: 1.6663...  0.0808 sec/batch\n",
      "Epoch: 10/20...  Training Step: 36000...  Training loss: 1.7556...  0.0839 sec/batch\n",
      "Epoch: 10/20...  Training Step: 36200...  Training loss: 1.7701...  0.0809 sec/batch\n",
      "Epoch: 10/20...  Training Step: 36400...  Training loss: 1.6932...  0.0849 sec/batch\n",
      "Epoch: 10/20...  Training Step: 36600...  Training loss: 1.7582...  0.0829 sec/batch\n",
      "Epoch: 10/20...  Training Step: 36800...  Training loss: 1.5376...  0.0870 sec/batch\n",
      "Epoch: 10/20...  Training Step: 37000...  Training loss: 1.6576...  0.0813 sec/batch\n",
      "Epoch: 10/20...  Training Step: 37200...  Training loss: 1.5460...  0.0823 sec/batch\n",
      "Epoch: 10/20...  Training Step: 37400...  Training loss: 1.6679...  0.0815 sec/batch\n",
      "Epoch: 10/20...  Training Step: 37600...  Training loss: 1.5629...  0.0829 sec/batch\n",
      "Epoch: 10/20...  Training Step: 37800...  Training loss: 1.5919...  0.0819 sec/batch\n",
      "Epoch: 10/20...  Training Step: 38000...  Training loss: 1.5286...  0.0809 sec/batch\n",
      "Epoch: 10/20...  Training Step: 38200...  Training loss: 1.6956...  0.0814 sec/batch\n",
      "Epoch: 10/20...  Training Step: 38400...  Training loss: 1.6596...  0.0812 sec/batch\n",
      "Epoch: 10/20...  Training Step: 38600...  Training loss: 1.5609...  0.0809 sec/batch\n",
      "Epoch: 10/20...  Training Step: 38800...  Training loss: 1.6257...  0.0794 sec/batch\n",
      "Epoch: 10/20...  Training Step: 39000...  Training loss: 1.6859...  0.0836 sec/batch\n",
      "Epoch: 10/20...  Training Step: 39200...  Training loss: 1.6933...  0.0818 sec/batch\n",
      "Epoch: 10/20...  Training Step: 39400...  Training loss: 1.6735...  0.0828 sec/batch\n",
      "Epoch: 10/20...  Training Step: 39600...  Training loss: 1.8049...  0.0811 sec/batch\n",
      "(10, 198500)\n",
      "Epoch: 11/20...  Training Step: 39800...  Training loss: 1.7379...  0.0806 sec/batch\n",
      "Epoch: 11/20...  Training Step: 40000...  Training loss: 1.5177...  0.0819 sec/batch\n",
      "Epoch: 11/20...  Training Step: 40200...  Training loss: 1.7732...  0.0792 sec/batch\n",
      "Epoch: 11/20...  Training Step: 40400...  Training loss: 1.6533...  0.0808 sec/batch\n",
      "Epoch: 11/20...  Training Step: 40600...  Training loss: 1.6267...  0.0817 sec/batch\n",
      "Epoch: 11/20...  Training Step: 40800...  Training loss: 1.6283...  0.0815 sec/batch\n",
      "Epoch: 11/20...  Training Step: 41000...  Training loss: 1.5183...  0.0812 sec/batch\n",
      "Epoch: 11/20...  Training Step: 41200...  Training loss: 1.6253...  0.0808 sec/batch\n",
      "Epoch: 11/20...  Training Step: 41400...  Training loss: 1.6575...  0.0816 sec/batch\n",
      "Epoch: 11/20...  Training Step: 41600...  Training loss: 1.4855...  0.0824 sec/batch\n",
      "Epoch: 11/20...  Training Step: 41800...  Training loss: 1.6463...  0.0819 sec/batch\n",
      "Epoch: 11/20...  Training Step: 42000...  Training loss: 1.5090...  0.0807 sec/batch\n",
      "Epoch: 11/20...  Training Step: 42200...  Training loss: 1.5824...  0.0759 sec/batch\n",
      "Epoch: 11/20...  Training Step: 42400...  Training loss: 1.6876...  0.0818 sec/batch\n",
      "Epoch: 11/20...  Training Step: 42600...  Training loss: 1.4919...  0.0804 sec/batch\n",
      "Epoch: 11/20...  Training Step: 42800...  Training loss: 1.5044...  0.0818 sec/batch\n",
      "Epoch: 11/20...  Training Step: 43000...  Training loss: 1.7134...  0.0822 sec/batch\n",
      "Epoch: 11/20...  Training Step: 43200...  Training loss: 1.6282...  0.0819 sec/batch\n",
      "Epoch: 11/20...  Training Step: 43400...  Training loss: 1.5550...  0.0819 sec/batch\n",
      "Epoch: 11/20...  Training Step: 43600...  Training loss: 1.7560...  0.0821 sec/batch\n",
      "(10, 198500)\n",
      "Epoch: 12/20...  Training Step: 43800...  Training loss: 1.5660...  0.0807 sec/batch\n",
      "Epoch: 12/20...  Training Step: 44000...  Training loss: 1.6661...  0.0809 sec/batch\n",
      "Epoch: 12/20...  Training Step: 44200...  Training loss: 1.6820...  0.0814 sec/batch\n",
      "Epoch: 12/20...  Training Step: 44400...  Training loss: 1.5119...  0.0823 sec/batch\n",
      "Epoch: 12/20...  Training Step: 44600...  Training loss: 1.6722...  0.0802 sec/batch\n",
      "Epoch: 12/20...  Training Step: 44800...  Training loss: 1.5088...  0.0843 sec/batch\n",
      "Epoch: 12/20...  Training Step: 45000...  Training loss: 1.6590...  0.0813 sec/batch\n",
      "Epoch: 12/20...  Training Step: 45200...  Training loss: 1.6523...  0.0819 sec/batch\n",
      "Epoch: 12/20...  Training Step: 45400...  Training loss: 1.5143...  0.0797 sec/batch\n",
      "Epoch: 12/20...  Training Step: 45600...  Training loss: 1.6164...  0.0825 sec/batch\n",
      "Epoch: 12/20...  Training Step: 45800...  Training loss: 1.6702...  0.0814 sec/batch\n",
      "Epoch: 12/20...  Training Step: 46000...  Training loss: 1.5368...  0.0831 sec/batch\n",
      "Epoch: 12/20...  Training Step: 46200...  Training loss: 1.5523...  0.0818 sec/batch\n",
      "Epoch: 12/20...  Training Step: 46400...  Training loss: 1.5091...  0.0826 sec/batch\n",
      "Epoch: 12/20...  Training Step: 46600...  Training loss: 1.5598...  0.0820 sec/batch\n",
      "Epoch: 12/20...  Training Step: 46800...  Training loss: 1.5873...  0.0807 sec/batch\n",
      "Epoch: 12/20...  Training Step: 47000...  Training loss: 1.7199...  0.0812 sec/batch\n",
      "Epoch: 12/20...  Training Step: 47200...  Training loss: 1.5619...  0.0820 sec/batch\n",
      "Epoch: 12/20...  Training Step: 47400...  Training loss: 1.7723...  0.0824 sec/batch\n",
      "Epoch: 12/20...  Training Step: 47600...  Training loss: 1.7748...  0.0821 sec/batch\n",
      "(10, 198500)\n",
      "Epoch: 13/20...  Training Step: 47800...  Training loss: 1.7689...  0.0811 sec/batch\n",
      "Epoch: 13/20...  Training Step: 48000...  Training loss: 1.7213...  0.0815 sec/batch\n",
      "Epoch: 13/20...  Training Step: 48200...  Training loss: 1.6208...  0.0818 sec/batch\n",
      "Epoch: 13/20...  Training Step: 48400...  Training loss: 1.5677...  0.0817 sec/batch\n",
      "Epoch: 13/20...  Training Step: 48600...  Training loss: 1.6630...  0.0821 sec/batch\n",
      "Epoch: 13/20...  Training Step: 48800...  Training loss: 1.4716...  0.0817 sec/batch\n",
      "Epoch: 13/20...  Training Step: 49000...  Training loss: 1.5995...  0.0805 sec/batch\n",
      "Epoch: 13/20...  Training Step: 49200...  Training loss: 1.7258...  0.0809 sec/batch\n",
      "Epoch: 13/20...  Training Step: 49400...  Training loss: 1.6197...  0.0812 sec/batch\n",
      "Epoch: 13/20...  Training Step: 49600...  Training loss: 1.6362...  0.0784 sec/batch\n",
      "Epoch: 13/20...  Training Step: 49800...  Training loss: 1.6480...  0.0817 sec/batch\n",
      "Epoch: 13/20...  Training Step: 50000...  Training loss: 1.6981...  0.0815 sec/batch\n",
      "Epoch: 13/20...  Training Step: 50200...  Training loss: 1.5116...  0.0812 sec/batch\n",
      "Epoch: 13/20...  Training Step: 50400...  Training loss: 1.6450...  0.0821 sec/batch\n",
      "Epoch: 13/20...  Training Step: 50600...  Training loss: 1.6638...  0.0807 sec/batch\n",
      "Epoch: 13/20...  Training Step: 50800...  Training loss: 1.5933...  0.0820 sec/batch\n",
      "Epoch: 13/20...  Training Step: 51000...  Training loss: 1.5622...  0.0818 sec/batch\n",
      "Epoch: 13/20...  Training Step: 51200...  Training loss: 1.6157...  0.0814 sec/batch\n",
      "Epoch: 13/20...  Training Step: 51400...  Training loss: 1.6112...  0.0807 sec/batch\n",
      "Epoch: 13/20...  Training Step: 51600...  Training loss: 1.6599...  0.0807 sec/batch\n",
      "(10, 198500)\n",
      "Epoch: 14/20...  Training Step: 51800...  Training loss: 1.6696...  0.0827 sec/batch\n",
      "Epoch: 14/20...  Training Step: 52000...  Training loss: 1.6439...  0.0803 sec/batch\n",
      "Epoch: 14/20...  Training Step: 52200...  Training loss: 1.7194...  0.0818 sec/batch\n",
      "Epoch: 14/20...  Training Step: 52400...  Training loss: 1.6073...  0.0825 sec/batch\n",
      "Epoch: 14/20...  Training Step: 52600...  Training loss: 1.4981...  0.0801 sec/batch\n",
      "Epoch: 14/20...  Training Step: 52800...  Training loss: 1.5235...  0.0809 sec/batch\n",
      "Epoch: 14/20...  Training Step: 53000...  Training loss: 1.5502...  0.0812 sec/batch\n",
      "Epoch: 14/20...  Training Step: 53200...  Training loss: 1.6177...  0.0832 sec/batch\n",
      "Epoch: 14/20...  Training Step: 53400...  Training loss: 1.6428...  0.0815 sec/batch\n",
      "Epoch: 14/20...  Training Step: 53600...  Training loss: 1.5847...  0.0831 sec/batch\n",
      "Epoch: 14/20...  Training Step: 53800...  Training loss: 1.5720...  0.0809 sec/batch\n",
      "Epoch: 14/20...  Training Step: 54000...  Training loss: 1.6598...  0.0819 sec/batch\n",
      "Epoch: 14/20...  Training Step: 54200...  Training loss: 1.6881...  0.0822 sec/batch\n",
      "Epoch: 14/20...  Training Step: 54400...  Training loss: 1.5828...  0.0823 sec/batch\n",
      "Epoch: 14/20...  Training Step: 54600...  Training loss: 1.6205...  0.0635 sec/batch\n",
      "Epoch: 14/20...  Training Step: 54800...  Training loss: 1.6061...  0.0848 sec/batch\n",
      "Epoch: 14/20...  Training Step: 55000...  Training loss: 1.6091...  0.0835 sec/batch\n",
      "Epoch: 14/20...  Training Step: 55200...  Training loss: 1.5696...  0.0811 sec/batch\n",
      "Epoch: 14/20...  Training Step: 55400...  Training loss: 1.6198...  0.0815 sec/batch\n",
      "(10, 198500)\n",
      "Epoch: 15/20...  Training Step: 55600...  Training loss: 1.8363...  0.0821 sec/batch\n",
      "Epoch: 15/20...  Training Step: 55800...  Training loss: 1.6198...  0.0834 sec/batch\n",
      "Epoch: 15/20...  Training Step: 56000...  Training loss: 1.7263...  0.0831 sec/batch\n",
      "Epoch: 15/20...  Training Step: 56200...  Training loss: 1.4971...  0.0825 sec/batch\n",
      "Epoch: 15/20...  Training Step: 56400...  Training loss: 1.7043...  0.0803 sec/batch\n",
      "Epoch: 15/20...  Training Step: 56600...  Training loss: 1.4432...  0.0835 sec/batch\n",
      "Epoch: 15/20...  Training Step: 56800...  Training loss: 1.5523...  0.0819 sec/batch\n",
      "Epoch: 15/20...  Training Step: 57000...  Training loss: 1.6320...  0.0816 sec/batch\n",
      "Epoch: 15/20...  Training Step: 57200...  Training loss: 1.7514...  0.0818 sec/batch\n",
      "Epoch: 15/20...  Training Step: 57400...  Training loss: 1.5992...  0.0816 sec/batch\n",
      "Epoch: 15/20...  Training Step: 57600...  Training loss: 1.4760...  0.0877 sec/batch\n",
      "Epoch: 15/20...  Training Step: 57800...  Training loss: 1.6612...  0.0835 sec/batch\n",
      "Epoch: 15/20...  Training Step: 58000...  Training loss: 1.8084...  0.0812 sec/batch\n",
      "Epoch: 15/20...  Training Step: 58200...  Training loss: 1.4486...  0.0802 sec/batch\n",
      "Epoch: 15/20...  Training Step: 58400...  Training loss: 1.6842...  0.0750 sec/batch\n",
      "Epoch: 15/20...  Training Step: 58600...  Training loss: 1.7422...  0.0821 sec/batch\n",
      "Epoch: 15/20...  Training Step: 58800...  Training loss: 1.6542...  0.0813 sec/batch\n",
      "Epoch: 15/20...  Training Step: 59000...  Training loss: 1.7381...  0.0816 sec/batch\n",
      "Epoch: 15/20...  Training Step: 59200...  Training loss: 1.6325...  0.0814 sec/batch\n",
      "Epoch: 15/20...  Training Step: 59400...  Training loss: 2.1879...  0.0821 sec/batch\n",
      "(10, 198500)\n",
      "Epoch: 16/20...  Training Step: 59600...  Training loss: 1.8754...  0.0821 sec/batch\n",
      "Epoch: 16/20...  Training Step: 59800...  Training loss: 1.6048...  0.0837 sec/batch\n",
      "Epoch: 16/20...  Training Step: 60000...  Training loss: 1.6329...  0.0821 sec/batch\n",
      "Epoch: 16/20...  Training Step: 60200...  Training loss: 1.4519...  0.0820 sec/batch\n",
      "Epoch: 16/20...  Training Step: 60400...  Training loss: 1.7133...  0.0810 sec/batch\n",
      "Epoch: 16/20...  Training Step: 60600...  Training loss: 1.5961...  0.0825 sec/batch\n",
      "Epoch: 16/20...  Training Step: 60800...  Training loss: 1.4454...  0.0803 sec/batch\n",
      "Epoch: 16/20...  Training Step: 61000...  Training loss: 1.6249...  0.0822 sec/batch\n",
      "Epoch: 16/20...  Training Step: 61200...  Training loss: 1.5843...  0.0819 sec/batch\n",
      "Epoch: 16/20...  Training Step: 61400...  Training loss: 1.6967...  0.0818 sec/batch\n",
      "Epoch: 16/20...  Training Step: 61600...  Training loss: 1.7479...  0.0824 sec/batch\n",
      "Epoch: 16/20...  Training Step: 61800...  Training loss: 1.6241...  0.0806 sec/batch\n",
      "Epoch: 16/20...  Training Step: 62000...  Training loss: 1.6999...  0.0810 sec/batch\n",
      "Epoch: 16/20...  Training Step: 62200...  Training loss: 1.7756...  0.0798 sec/batch\n",
      "Epoch: 16/20...  Training Step: 62400...  Training loss: 1.7897...  0.0807 sec/batch\n",
      "Epoch: 16/20...  Training Step: 62600...  Training loss: 1.6769...  0.0807 sec/batch\n",
      "Epoch: 16/20...  Training Step: 62800...  Training loss: 1.6771...  0.0813 sec/batch\n",
      "Epoch: 16/20...  Training Step: 63000...  Training loss: 1.5719...  0.0813 sec/batch\n",
      "Epoch: 16/20...  Training Step: 63200...  Training loss: 1.8150...  0.0829 sec/batch\n",
      "Epoch: 16/20...  Training Step: 63400...  Training loss: 1.7040...  0.0808 sec/batch\n",
      "(10, 198500)\n",
      "Epoch: 17/20...  Training Step: 63600...  Training loss: 1.6243...  0.0818 sec/batch\n",
      "Epoch: 17/20...  Training Step: 63800...  Training loss: 1.6631...  0.0822 sec/batch\n",
      "Epoch: 17/20...  Training Step: 64000...  Training loss: 1.7222...  0.0826 sec/batch\n",
      "Epoch: 17/20...  Training Step: 64200...  Training loss: 1.7329...  0.0789 sec/batch\n",
      "Epoch: 17/20...  Training Step: 64400...  Training loss: 1.5113...  0.0818 sec/batch\n",
      "Epoch: 17/20...  Training Step: 64600...  Training loss: 1.4709...  0.0808 sec/batch\n",
      "Epoch: 17/20...  Training Step: 64800...  Training loss: 1.4983...  0.0802 sec/batch\n",
      "Epoch: 17/20...  Training Step: 65000...  Training loss: 1.6029...  0.0809 sec/batch\n",
      "Epoch: 17/20...  Training Step: 65200...  Training loss: 1.5551...  0.0798 sec/batch\n",
      "Epoch: 17/20...  Training Step: 65400...  Training loss: 1.6828...  0.0824 sec/batch\n",
      "Epoch: 17/20...  Training Step: 65600...  Training loss: 1.5874...  0.0811 sec/batch\n",
      "Epoch: 17/20...  Training Step: 65800...  Training loss: 1.5571...  0.0805 sec/batch\n",
      "Epoch: 17/20...  Training Step: 66000...  Training loss: 1.6548...  0.0817 sec/batch\n",
      "Epoch: 17/20...  Training Step: 66200...  Training loss: 1.5158...  0.0803 sec/batch\n",
      "Epoch: 17/20...  Training Step: 66400...  Training loss: 1.5438...  0.0818 sec/batch\n",
      "Epoch: 17/20...  Training Step: 66600...  Training loss: 1.6155...  0.0709 sec/batch\n",
      "Epoch: 17/20...  Training Step: 66800...  Training loss: 1.4895...  0.0805 sec/batch\n",
      "Epoch: 17/20...  Training Step: 67000...  Training loss: 1.4478...  0.0820 sec/batch\n",
      "Epoch: 17/20...  Training Step: 67200...  Training loss: 1.8726...  0.0824 sec/batch\n",
      "Epoch: 17/20...  Training Step: 67400...  Training loss: 1.6298...  0.0814 sec/batch\n",
      "(10, 198500)\n",
      "Epoch: 18/20...  Training Step: 67600...  Training loss: 1.6437...  0.0833 sec/batch\n",
      "Epoch: 18/20...  Training Step: 67800...  Training loss: 1.7191...  0.0824 sec/batch\n",
      "Epoch: 18/20...  Training Step: 68000...  Training loss: 1.6587...  0.0751 sec/batch\n",
      "Epoch: 18/20...  Training Step: 68200...  Training loss: 1.6369...  0.0808 sec/batch\n",
      "Epoch: 18/20...  Training Step: 68400...  Training loss: 1.7861...  0.0820 sec/batch\n",
      "Epoch: 18/20...  Training Step: 68600...  Training loss: 1.5633...  0.0797 sec/batch\n",
      "Epoch: 18/20...  Training Step: 68800...  Training loss: 1.6625...  0.0819 sec/batch\n",
      "Epoch: 18/20...  Training Step: 69000...  Training loss: 1.5936...  0.0817 sec/batch\n",
      "Epoch: 18/20...  Training Step: 69200...  Training loss: 1.6549...  0.0828 sec/batch\n",
      "Epoch: 18/20...  Training Step: 69400...  Training loss: 1.5383...  0.0739 sec/batch\n",
      "Epoch: 18/20...  Training Step: 69600...  Training loss: 1.5742...  0.0827 sec/batch\n",
      "Epoch: 18/20...  Training Step: 69800...  Training loss: 1.6795...  0.0825 sec/batch\n",
      "Epoch: 18/20...  Training Step: 70000...  Training loss: 1.6302...  0.0826 sec/batch\n",
      "Epoch: 18/20...  Training Step: 70200...  Training loss: 1.5414...  0.0819 sec/batch\n",
      "Epoch: 18/20...  Training Step: 70400...  Training loss: 1.7127...  0.0884 sec/batch\n",
      "Epoch: 18/20...  Training Step: 70600...  Training loss: 1.6095...  0.0814 sec/batch\n",
      "Epoch: 18/20...  Training Step: 70800...  Training loss: 1.7132...  0.0820 sec/batch\n",
      "Epoch: 18/20...  Training Step: 71000...  Training loss: 1.5744...  0.0769 sec/batch\n",
      "Epoch: 18/20...  Training Step: 71200...  Training loss: 1.6497...  0.0825 sec/batch\n",
      "Epoch: 18/20...  Training Step: 71400...  Training loss: 1.9647...  0.0818 sec/batch\n",
      "(10, 198500)\n",
      "Epoch: 19/20...  Training Step: 71600...  Training loss: 1.5810...  0.0834 sec/batch\n",
      "Epoch: 19/20...  Training Step: 71800...  Training loss: 1.6302...  0.0833 sec/batch\n",
      "Epoch: 19/20...  Training Step: 72000...  Training loss: 1.5584...  0.0822 sec/batch\n",
      "Epoch: 19/20...  Training Step: 72200...  Training loss: 1.5984...  0.0830 sec/batch\n",
      "Epoch: 19/20...  Training Step: 72400...  Training loss: 1.5776...  0.0824 sec/batch\n",
      "Epoch: 19/20...  Training Step: 72600...  Training loss: 1.8035...  0.0817 sec/batch\n",
      "Epoch: 19/20...  Training Step: 72800...  Training loss: 1.6158...  0.0833 sec/batch\n",
      "Epoch: 19/20...  Training Step: 73000...  Training loss: 1.6686...  0.0822 sec/batch\n",
      "Epoch: 19/20...  Training Step: 73200...  Training loss: 1.6496...  0.0826 sec/batch\n",
      "Epoch: 19/20...  Training Step: 73400...  Training loss: 1.9514...  0.0819 sec/batch\n",
      "Epoch: 19/20...  Training Step: 73600...  Training loss: 1.6242...  0.0825 sec/batch\n",
      "Epoch: 19/20...  Training Step: 73800...  Training loss: 1.6966...  0.0809 sec/batch\n",
      "Epoch: 19/20...  Training Step: 74000...  Training loss: 1.6716...  0.0834 sec/batch\n",
      "Epoch: 19/20...  Training Step: 74200...  Training loss: 1.5099...  0.0815 sec/batch\n",
      "Epoch: 19/20...  Training Step: 74400...  Training loss: 1.6408...  0.0823 sec/batch\n",
      "Epoch: 19/20...  Training Step: 74600...  Training loss: 1.7507...  0.0806 sec/batch\n",
      "Epoch: 19/20...  Training Step: 74800...  Training loss: 1.6055...  0.0806 sec/batch\n",
      "Epoch: 19/20...  Training Step: 75000...  Training loss: 1.5659...  0.0797 sec/batch\n",
      "Epoch: 19/20...  Training Step: 75200...  Training loss: 1.6542...  0.0814 sec/batch\n",
      "Epoch: 19/20...  Training Step: 75400...  Training loss: 1.7270...  0.0733 sec/batch\n",
      "(10, 198500)\n",
      "Epoch: 20/20...  Training Step: 75600...  Training loss: 1.7202...  0.0821 sec/batch\n",
      "Epoch: 20/20...  Training Step: 75800...  Training loss: 1.7062...  0.0818 sec/batch\n",
      "Epoch: 20/20...  Training Step: 76000...  Training loss: 1.6527...  0.0804 sec/batch\n",
      "Epoch: 20/20...  Training Step: 76200...  Training loss: 1.6203...  0.0811 sec/batch\n",
      "Epoch: 20/20...  Training Step: 76400...  Training loss: 1.5731...  0.0821 sec/batch\n",
      "Epoch: 20/20...  Training Step: 76600...  Training loss: 1.5503...  0.0825 sec/batch\n",
      "Epoch: 20/20...  Training Step: 76800...  Training loss: 1.6358...  0.0811 sec/batch\n",
      "Epoch: 20/20...  Training Step: 77000...  Training loss: 1.6540...  0.0806 sec/batch\n",
      "Epoch: 20/20...  Training Step: 77200...  Training loss: 1.6523...  0.0828 sec/batch\n",
      "Epoch: 20/20...  Training Step: 77400...  Training loss: 1.6486...  0.0812 sec/batch\n",
      "Epoch: 20/20...  Training Step: 77600...  Training loss: 1.5785...  0.0825 sec/batch\n",
      "Epoch: 20/20...  Training Step: 77800...  Training loss: 1.5253...  0.0772 sec/batch\n",
      "Epoch: 20/20...  Training Step: 78000...  Training loss: 1.4966...  0.0654 sec/batch\n",
      "Epoch: 20/20...  Training Step: 78200...  Training loss: 1.6601...  0.0819 sec/batch\n",
      "Epoch: 20/20...  Training Step: 78400...  Training loss: 1.5731...  0.0821 sec/batch\n",
      "Epoch: 20/20...  Training Step: 78600...  Training loss: 1.6477...  0.0813 sec/batch\n",
      "Epoch: 20/20...  Training Step: 78800...  Training loss: 1.5642...  0.0823 sec/batch\n",
      "Epoch: 20/20...  Training Step: 79000...  Training loss: 1.3565...  0.0815 sec/batch\n",
      "Epoch: 20/20...  Training Step: 79200...  Training loss: 1.5950...  0.0806 sec/batch\n",
      "Epoch: 20/20...  Training Step: 79400...  Training loss: 1.9342...  0.0811 sec/batch\n"
     ]
    }
   ],
   "source": [
    "epochs = 20\n",
    "# Save every N iterations\n",
    "save_every_n = 5000\n",
    "\n",
    "model = CharRNN(len(vocab), batch_size=batch_size, num_steps=num_steps,\n",
    "                lstm_size=lstm_size, num_layers=num_layers, \n",
    "                learning_rate=learning_rate)\n",
    "\n",
    "saver = tf.train.Saver(max_to_keep=100)\n",
    "with tf.Session() as sess:\n",
    "    sess.run(tf.global_variables_initializer())\n",
    "    \n",
    "    # Use the line below to load a checkpoint and resume training\n",
    "    #saver.restore(sess, 'checkpoints/______.ckpt')\n",
    "    counter = 0\n",
    "    for e in range(epochs):\n",
    "        # Train network\n",
    "        new_state = sess.run(model.initial_state)\n",
    "        loss = 0\n",
    "        for x, y in get_batches(encoded, batch_size, num_steps):\n",
    "            counter += 1\n",
    "            start = time.time()\n",
    "            feed = {model.inputs: x,\n",
    "                    model.targets: y,\n",
    "                    model.keep_prob: keep_prob,\n",
    "                    model.initial_state: new_state}\n",
    "            batch_loss, new_state, _ = sess.run([model.loss, \n",
    "                                                 model.final_state, \n",
    "                                                 model.optimizer], \n",
    "                                                 feed_dict=feed)\n",
    "            \n",
    "            end = time.time()\n",
    "            if (counter % 200 == 0):\n",
    "                print('Epoch: {}/{}... '.format(e+1, epochs),\n",
    "                      'Training Step: {}... '.format(counter),\n",
    "                      'Training loss: {:.4f}... '.format(batch_loss),\n",
    "                      '{:.4f} sec/batch'.format((end-start)))\n",
    "        \n",
    "            if (counter % save_every_n == 0):\n",
    "                saver.save(sess, \"checkpoints/i{}_l{}.ckpt\".format(counter, lstm_size))\n",
    "    \n",
    "    saver.save(sess, \"checkpoints/i{}_l{}.ckpt\".format(counter, lstm_size))"
   ]
  },
  {
   "cell_type": "markdown",
   "metadata": {
    "deletable": true,
    "editable": true
   },
   "source": [
    "#### Saved checkpoints\n",
    "\n",
    "Read up on saving and loading checkpoints here: https://www.tensorflow.org/programmers_guide/variables"
   ]
  },
  {
   "cell_type": "code",
   "execution_count": 42,
   "metadata": {
    "collapsed": false,
    "deletable": true,
    "editable": true
   },
   "outputs": [
    {
     "data": {
      "text/plain": [
       "model_checkpoint_path: \"checkpoints/i79400_l128.ckpt\"\n",
       "all_model_checkpoint_paths: \"checkpoints/i5000_l128.ckpt\"\n",
       "all_model_checkpoint_paths: \"checkpoints/i10000_l128.ckpt\"\n",
       "all_model_checkpoint_paths: \"checkpoints/i15000_l128.ckpt\"\n",
       "all_model_checkpoint_paths: \"checkpoints/i20000_l128.ckpt\"\n",
       "all_model_checkpoint_paths: \"checkpoints/i25000_l128.ckpt\"\n",
       "all_model_checkpoint_paths: \"checkpoints/i30000_l128.ckpt\"\n",
       "all_model_checkpoint_paths: \"checkpoints/i35000_l128.ckpt\"\n",
       "all_model_checkpoint_paths: \"checkpoints/i40000_l128.ckpt\"\n",
       "all_model_checkpoint_paths: \"checkpoints/i45000_l128.ckpt\"\n",
       "all_model_checkpoint_paths: \"checkpoints/i50000_l128.ckpt\"\n",
       "all_model_checkpoint_paths: \"checkpoints/i55000_l128.ckpt\"\n",
       "all_model_checkpoint_paths: \"checkpoints/i60000_l128.ckpt\"\n",
       "all_model_checkpoint_paths: \"checkpoints/i65000_l128.ckpt\"\n",
       "all_model_checkpoint_paths: \"checkpoints/i70000_l128.ckpt\"\n",
       "all_model_checkpoint_paths: \"checkpoints/i75000_l128.ckpt\"\n",
       "all_model_checkpoint_paths: \"checkpoints/i79400_l128.ckpt\""
      ]
     },
     "execution_count": 42,
     "metadata": {},
     "output_type": "execute_result"
    }
   ],
   "source": [
    "tf.train.get_checkpoint_state('checkpoints')"
   ]
  },
  {
   "cell_type": "markdown",
   "metadata": {
    "deletable": true,
    "editable": true
   },
   "source": [
    "## Sampling\n",
    "\n",
    "Now that the network is trained, we'll can use it to generate new text. The idea is that we pass in a character, then the network will predict the next character. We can use the new one, to predict the next one. And we keep doing this to generate all new text. I also included some functionality to prime the network with some text by passing in a string and building up a state from that.\n",
    "\n",
    "The network gives us predictions for each character. To reduce noise and make things a little less random, I'm going to only choose a new character from the top N most likely characters.\n",
    "\n"
   ]
  },
  {
   "cell_type": "code",
   "execution_count": 43,
   "metadata": {
    "collapsed": true,
    "deletable": true,
    "editable": true
   },
   "outputs": [],
   "source": [
    "def pick_top_n(preds, vocab_size, top_n=5):\n",
    "    p = np.squeeze(preds)\n",
    "    p[np.argsort(p)[:-top_n]] = 0\n",
    "    p = p / np.sum(p)\n",
    "    c = np.random.choice(vocab_size, 1, p=p)[0]\n",
    "    return c"
   ]
  },
  {
   "cell_type": "code",
   "execution_count": 44,
   "metadata": {
    "collapsed": true,
    "deletable": true,
    "editable": true
   },
   "outputs": [],
   "source": [
    "def sample(checkpoint, n_samples, lstm_size, vocab_size, prime=\"The \"):\n",
    "    samples = [c for c in prime]\n",
    "    model = CharRNN(len(vocab), lstm_size=lstm_size, sampling=True)\n",
    "    saver = tf.train.Saver()\n",
    "    with tf.Session() as sess:\n",
    "        saver.restore(sess, checkpoint)\n",
    "        new_state = sess.run(model.initial_state)\n",
    "        for c in prime:\n",
    "            x = np.zeros((1, 1))\n",
    "            x[0,0] = vocab_to_int[c]\n",
    "            feed = {model.inputs: x,\n",
    "                    model.keep_prob: 1.,\n",
    "                    model.initial_state: new_state}\n",
    "            preds, new_state = sess.run([model.prediction, model.final_state], \n",
    "                                         feed_dict=feed)\n",
    "\n",
    "        c = pick_top_n(preds, len(vocab))\n",
    "        samples.append(int_to_vocab[c])\n",
    "\n",
    "        for i in range(n_samples):\n",
    "            x[0,0] = c\n",
    "            feed = {model.inputs: x,\n",
    "                    model.keep_prob: 1.,\n",
    "                    model.initial_state: new_state}\n",
    "            preds, new_state = sess.run([model.prediction, model.final_state], \n",
    "                                         feed_dict=feed)\n",
    "\n",
    "            c = pick_top_n(preds, len(vocab))\n",
    "            samples.append(int_to_vocab[c])\n",
    "        \n",
    "    return ''.join(samples)"
   ]
  },
  {
   "cell_type": "markdown",
   "metadata": {
    "deletable": true,
    "editable": true
   },
   "source": [
    "Here, pass in the path to a checkpoint and sample from the network."
   ]
  },
  {
   "cell_type": "code",
   "execution_count": 45,
   "metadata": {
    "collapsed": false,
    "deletable": true,
    "editable": true
   },
   "outputs": [
    {
     "data": {
      "text/plain": [
       "'checkpoints/i79400_l128.ckpt'"
      ]
     },
     "execution_count": 45,
     "metadata": {},
     "output_type": "execute_result"
    }
   ],
   "source": [
    "tf.train.latest_checkpoint('checkpoints')"
   ]
  },
  {
   "cell_type": "code",
   "execution_count": 46,
   "metadata": {
    "collapsed": false,
    "deletable": true,
    "editable": true
   },
   "outputs": [
    {
     "name": "stdout",
     "output_type": "stream",
     "text": [
      "Farting to the placing on the thole\n",
      "same stander, and she saw that he had been hose all what is shroul in her and thought were and hand at the calring. Then has handed her some saying and a sent of the stirts, the partative the more whom she was both only hand too as she had the sone of her with a monel that he seemed his heart it world seced thoughts in the\n",
      "moments. This had\n",
      "saw in a mense of satide. He was and see this, should not help in a shame in with\n",
      "him, that should than stopping one was something that that she had been told him or when has streed\n",
      "at her were somethed the people with which he made to\n",
      "the perpanished, and were an across that there were something of the mans to a ponter, but the caution in his pictor, but she went her terry, he done\n",
      "watching that the morner. He did not tell him out of her herself. She was not contertion to singer all\n",
      "the prepicte and was to him to his brother thought and\n",
      "a mather\n",
      "out to tell\n",
      "to to that him to having a ponstons. \"I didn't\n",
      "do it to say, but an arrated, but all\n",
      "so ofensed all stals. What heard?\" she said any sone with a shoot to\n",
      "the canter and the table was a ponter. \"Whether had been someor on it.... The perpecter it was\n",
      "at\n",
      "it of\n",
      "seralle.\"\n",
      "\n",
      "She had been horsed than what had no made out that has been so as\n",
      "she went tricily\n",
      "a pondicing and sayer word,\n",
      "but the can start and sayed, but that is wetting it, and well, how an open on her the simply to say the parces and and a man it with the\n",
      "that and he did not be handing to him and she his\n",
      "still one ofe a stranging her his. In it him as the present and heard of his peoul. And that the stood in a moment.\n",
      "\n",
      "\"What wanted to any marriage, what are.... And I'm a same officers of sense to the more and there how the match that his to\n",
      "her to the table of her on it,\"\n",
      "asked Levin. \"They would not be and happened at wish to all them to see that I shelistic to this tired as it was all an and time of the tere with starkion, and it's say it. It's to be sayed at him, with an a beal. And th\n"
     ]
    }
   ],
   "source": [
    "checkpoint = tf.train.latest_checkpoint('checkpoints')\n",
    "samp = sample(checkpoint, 2000, lstm_size, len(vocab), prime=\"Far\")\n",
    "print(samp)"
   ]
  },
  {
   "cell_type": "code",
   "execution_count": null,
   "metadata": {
    "collapsed": true,
    "deletable": true,
    "editable": true
   },
   "outputs": [],
   "source": [
    "checkpoint = 'checkpoints/i200_l512.ckpt'\n",
    "samp = sample(checkpoint, 1000, lstm_size, len(vocab), prime=\"Far\")\n",
    "print(samp)"
   ]
  },
  {
   "cell_type": "code",
   "execution_count": null,
   "metadata": {
    "collapsed": true,
    "deletable": true,
    "editable": true
   },
   "outputs": [],
   "source": [
    "checkpoint = 'checkpoints/i600_l512.ckpt'\n",
    "samp = sample(checkpoint, 1000, lstm_size, len(vocab), prime=\"Far\")\n",
    "print(samp)"
   ]
  },
  {
   "cell_type": "code",
   "execution_count": 48,
   "metadata": {
    "collapsed": false,
    "deletable": true,
    "editable": true
   },
   "outputs": [
    {
     "name": "stdout",
     "output_type": "stream",
     "text": [
      "Far of his points.\n",
      "\n",
      "\"To be because a same. The money is in the man or\n",
      "anything our tearent and that\n",
      "seate it as to the praise in them of it. Why so should\n",
      "and so of to see these only all the peasing in still the\n",
      "stood and to think they're become, and there make on the point, but the most of his carriagistation who had a meads was in the man.\n",
      "\n",
      "They have somethones of the stowing, and to see an understand to sometanges,\n",
      "and the crach one seen her to his breed that is\n",
      "home to the pertain it impone of so of him, with secon a pread,\" went out him, and were taking the choral the manting. \"We has not answer to all having his seen to allow on, and all he don't colsented to the class the preacing, and him at them...\"\n",
      "\n",
      "\"What was.\"\n",
      "\n",
      "\"Well, I don't do that I should be an arring to have so must, will be out that they're not come to all them.\"\n",
      "\n",
      "\"Why to be to be answered as well in the mere thrown were this would not to\n",
      "stand this too stown\n",
      "an answer way of her, and the stown town hord win thing.\"\n",
      "\n",
      "The b\n"
     ]
    }
   ],
   "source": [
    "checkpoint = 'checkpoints/i79400_l128.ckpt'\n",
    "samp = sample(checkpoint, 1000, lstm_size, len(vocab), prime=\"Far\")\n",
    "print(samp)"
   ]
  },
  {
   "cell_type": "code",
   "execution_count": null,
   "metadata": {
    "collapsed": true
   },
   "outputs": [],
   "source": []
  }
 ],
 "metadata": {
  "kernelspec": {
   "display_name": "Python 3",
   "language": "python",
   "name": "python3"
  },
  "language_info": {
   "codemirror_mode": {
    "name": "ipython",
    "version": 3
   },
   "file_extension": ".py",
   "mimetype": "text/x-python",
   "name": "python",
   "nbconvert_exporter": "python",
   "pygments_lexer": "ipython3",
   "version": "3.6.3"
  }
 },
 "nbformat": 4,
 "nbformat_minor": 2
}
